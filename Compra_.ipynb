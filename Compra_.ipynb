{
  "nbformat": 4,
  "nbformat_minor": 0,
  "metadata": {
    "colab": {
      "provenance": []
    },
    "kernelspec": {
      "name": "python3",
      "display_name": "Python 3"
    },
    "language_info": {
      "name": "python"
    }
  },
  "cells": [
    {
      "cell_type": "markdown",
      "source": [
        "## <font color = Yellow > Exércicio 3: Compra ?"
      ],
      "metadata": {
        "id": "StGy8oWQh8En"
      }
    },
    {
      "cell_type": "code",
      "execution_count": null,
      "metadata": {
        "colab": {
          "base_uri": "https://localhost:8080/",
          "height": 537
        },
        "id": "Oq4m9DuOUkdn",
        "outputId": "8ebaa628-c669-43ce-bbfc-a97d98d9f8bf"
      },
      "outputs": [
        {
          "output_type": "display_data",
          "data": {
            "text/plain": [
              "    home  how_it_works  contact  bought\n",
              "0      1             1        0       0\n",
              "1      1             1        0       0\n",
              "2      1             1        0       0\n",
              "3      1             1        0       0\n",
              "4      1             1        0       0\n",
              "5      1             0        1       1\n",
              "6      1             1        0       0\n",
              "7      1             0        1       1\n",
              "8      1             1        0       0\n",
              "9      1             0        1       1\n",
              "10     1             1        0       1\n",
              "11     1             0        1       1\n",
              "12     0             0        1       0\n",
              "13     0             0        1       0\n",
              "14     0             0        1       0"
            ],
            "text/html": [
              "\n",
              "  <div id=\"df-8a8be7fc-b723-4207-acd2-b3e55da8d1cb\" class=\"colab-df-container\">\n",
              "    <div>\n",
              "<style scoped>\n",
              "    .dataframe tbody tr th:only-of-type {\n",
              "        vertical-align: middle;\n",
              "    }\n",
              "\n",
              "    .dataframe tbody tr th {\n",
              "        vertical-align: top;\n",
              "    }\n",
              "\n",
              "    .dataframe thead th {\n",
              "        text-align: right;\n",
              "    }\n",
              "</style>\n",
              "<table border=\"1\" class=\"dataframe\">\n",
              "  <thead>\n",
              "    <tr style=\"text-align: right;\">\n",
              "      <th></th>\n",
              "      <th>home</th>\n",
              "      <th>how_it_works</th>\n",
              "      <th>contact</th>\n",
              "      <th>bought</th>\n",
              "    </tr>\n",
              "  </thead>\n",
              "  <tbody>\n",
              "    <tr>\n",
              "      <th>0</th>\n",
              "      <td>1</td>\n",
              "      <td>1</td>\n",
              "      <td>0</td>\n",
              "      <td>0</td>\n",
              "    </tr>\n",
              "    <tr>\n",
              "      <th>1</th>\n",
              "      <td>1</td>\n",
              "      <td>1</td>\n",
              "      <td>0</td>\n",
              "      <td>0</td>\n",
              "    </tr>\n",
              "    <tr>\n",
              "      <th>2</th>\n",
              "      <td>1</td>\n",
              "      <td>1</td>\n",
              "      <td>0</td>\n",
              "      <td>0</td>\n",
              "    </tr>\n",
              "    <tr>\n",
              "      <th>3</th>\n",
              "      <td>1</td>\n",
              "      <td>1</td>\n",
              "      <td>0</td>\n",
              "      <td>0</td>\n",
              "    </tr>\n",
              "    <tr>\n",
              "      <th>4</th>\n",
              "      <td>1</td>\n",
              "      <td>1</td>\n",
              "      <td>0</td>\n",
              "      <td>0</td>\n",
              "    </tr>\n",
              "    <tr>\n",
              "      <th>5</th>\n",
              "      <td>1</td>\n",
              "      <td>0</td>\n",
              "      <td>1</td>\n",
              "      <td>1</td>\n",
              "    </tr>\n",
              "    <tr>\n",
              "      <th>6</th>\n",
              "      <td>1</td>\n",
              "      <td>1</td>\n",
              "      <td>0</td>\n",
              "      <td>0</td>\n",
              "    </tr>\n",
              "    <tr>\n",
              "      <th>7</th>\n",
              "      <td>1</td>\n",
              "      <td>0</td>\n",
              "      <td>1</td>\n",
              "      <td>1</td>\n",
              "    </tr>\n",
              "    <tr>\n",
              "      <th>8</th>\n",
              "      <td>1</td>\n",
              "      <td>1</td>\n",
              "      <td>0</td>\n",
              "      <td>0</td>\n",
              "    </tr>\n",
              "    <tr>\n",
              "      <th>9</th>\n",
              "      <td>1</td>\n",
              "      <td>0</td>\n",
              "      <td>1</td>\n",
              "      <td>1</td>\n",
              "    </tr>\n",
              "    <tr>\n",
              "      <th>10</th>\n",
              "      <td>1</td>\n",
              "      <td>1</td>\n",
              "      <td>0</td>\n",
              "      <td>1</td>\n",
              "    </tr>\n",
              "    <tr>\n",
              "      <th>11</th>\n",
              "      <td>1</td>\n",
              "      <td>0</td>\n",
              "      <td>1</td>\n",
              "      <td>1</td>\n",
              "    </tr>\n",
              "    <tr>\n",
              "      <th>12</th>\n",
              "      <td>0</td>\n",
              "      <td>0</td>\n",
              "      <td>1</td>\n",
              "      <td>0</td>\n",
              "    </tr>\n",
              "    <tr>\n",
              "      <th>13</th>\n",
              "      <td>0</td>\n",
              "      <td>0</td>\n",
              "      <td>1</td>\n",
              "      <td>0</td>\n",
              "    </tr>\n",
              "    <tr>\n",
              "      <th>14</th>\n",
              "      <td>0</td>\n",
              "      <td>0</td>\n",
              "      <td>1</td>\n",
              "      <td>0</td>\n",
              "    </tr>\n",
              "  </tbody>\n",
              "</table>\n",
              "</div>\n",
              "    <div class=\"colab-df-buttons\">\n",
              "\n",
              "  <div class=\"colab-df-container\">\n",
              "    <button class=\"colab-df-convert\" onclick=\"convertToInteractive('df-8a8be7fc-b723-4207-acd2-b3e55da8d1cb')\"\n",
              "            title=\"Convert this dataframe to an interactive table.\"\n",
              "            style=\"display:none;\">\n",
              "\n",
              "  <svg xmlns=\"http://www.w3.org/2000/svg\" height=\"24px\" viewBox=\"0 -960 960 960\">\n",
              "    <path d=\"M120-120v-720h720v720H120Zm60-500h600v-160H180v160Zm220 220h160v-160H400v160Zm0 220h160v-160H400v160ZM180-400h160v-160H180v160Zm440 0h160v-160H620v160ZM180-180h160v-160H180v160Zm440 0h160v-160H620v160Z\"/>\n",
              "  </svg>\n",
              "    </button>\n",
              "\n",
              "  <style>\n",
              "    .colab-df-container {\n",
              "      display:flex;\n",
              "      gap: 12px;\n",
              "    }\n",
              "\n",
              "    .colab-df-convert {\n",
              "      background-color: #E8F0FE;\n",
              "      border: none;\n",
              "      border-radius: 50%;\n",
              "      cursor: pointer;\n",
              "      display: none;\n",
              "      fill: #1967D2;\n",
              "      height: 32px;\n",
              "      padding: 0 0 0 0;\n",
              "      width: 32px;\n",
              "    }\n",
              "\n",
              "    .colab-df-convert:hover {\n",
              "      background-color: #E2EBFA;\n",
              "      box-shadow: 0px 1px 2px rgba(60, 64, 67, 0.3), 0px 1px 3px 1px rgba(60, 64, 67, 0.15);\n",
              "      fill: #174EA6;\n",
              "    }\n",
              "\n",
              "    .colab-df-buttons div {\n",
              "      margin-bottom: 4px;\n",
              "    }\n",
              "\n",
              "    [theme=dark] .colab-df-convert {\n",
              "      background-color: #3B4455;\n",
              "      fill: #D2E3FC;\n",
              "    }\n",
              "\n",
              "    [theme=dark] .colab-df-convert:hover {\n",
              "      background-color: #434B5C;\n",
              "      box-shadow: 0px 1px 3px 1px rgba(0, 0, 0, 0.15);\n",
              "      filter: drop-shadow(0px 1px 2px rgba(0, 0, 0, 0.3));\n",
              "      fill: #FFFFFF;\n",
              "    }\n",
              "  </style>\n",
              "\n",
              "    <script>\n",
              "      const buttonEl =\n",
              "        document.querySelector('#df-8a8be7fc-b723-4207-acd2-b3e55da8d1cb button.colab-df-convert');\n",
              "      buttonEl.style.display =\n",
              "        google.colab.kernel.accessAllowed ? 'block' : 'none';\n",
              "\n",
              "      async function convertToInteractive(key) {\n",
              "        const element = document.querySelector('#df-8a8be7fc-b723-4207-acd2-b3e55da8d1cb');\n",
              "        const dataTable =\n",
              "          await google.colab.kernel.invokeFunction('convertToInteractive',\n",
              "                                                    [key], {});\n",
              "        if (!dataTable) return;\n",
              "\n",
              "        const docLinkHtml = 'Like what you see? Visit the ' +\n",
              "          '<a target=\"_blank\" href=https://colab.research.google.com/notebooks/data_table.ipynb>data table notebook</a>'\n",
              "          + ' to learn more about interactive tables.';\n",
              "        element.innerHTML = '';\n",
              "        dataTable['output_type'] = 'display_data';\n",
              "        await google.colab.output.renderOutput(dataTable, element);\n",
              "        const docLink = document.createElement('div');\n",
              "        docLink.innerHTML = docLinkHtml;\n",
              "        element.appendChild(docLink);\n",
              "      }\n",
              "    </script>\n",
              "  </div>\n",
              "\n",
              "\n",
              "<div id=\"df-497cefeb-a3a1-4531-909c-a007ecb9dfb0\">\n",
              "  <button class=\"colab-df-quickchart\" onclick=\"quickchart('df-497cefeb-a3a1-4531-909c-a007ecb9dfb0')\"\n",
              "            title=\"Suggest charts\"\n",
              "            style=\"display:none;\">\n",
              "\n",
              "<svg xmlns=\"http://www.w3.org/2000/svg\" height=\"24px\"viewBox=\"0 0 24 24\"\n",
              "     width=\"24px\">\n",
              "    <g>\n",
              "        <path d=\"M19 3H5c-1.1 0-2 .9-2 2v14c0 1.1.9 2 2 2h14c1.1 0 2-.9 2-2V5c0-1.1-.9-2-2-2zM9 17H7v-7h2v7zm4 0h-2V7h2v10zm4 0h-2v-4h2v4z\"/>\n",
              "    </g>\n",
              "</svg>\n",
              "  </button>\n",
              "\n",
              "<style>\n",
              "  .colab-df-quickchart {\n",
              "      --bg-color: #E8F0FE;\n",
              "      --fill-color: #1967D2;\n",
              "      --hover-bg-color: #E2EBFA;\n",
              "      --hover-fill-color: #174EA6;\n",
              "      --disabled-fill-color: #AAA;\n",
              "      --disabled-bg-color: #DDD;\n",
              "  }\n",
              "\n",
              "  [theme=dark] .colab-df-quickchart {\n",
              "      --bg-color: #3B4455;\n",
              "      --fill-color: #D2E3FC;\n",
              "      --hover-bg-color: #434B5C;\n",
              "      --hover-fill-color: #FFFFFF;\n",
              "      --disabled-bg-color: #3B4455;\n",
              "      --disabled-fill-color: #666;\n",
              "  }\n",
              "\n",
              "  .colab-df-quickchart {\n",
              "    background-color: var(--bg-color);\n",
              "    border: none;\n",
              "    border-radius: 50%;\n",
              "    cursor: pointer;\n",
              "    display: none;\n",
              "    fill: var(--fill-color);\n",
              "    height: 32px;\n",
              "    padding: 0;\n",
              "    width: 32px;\n",
              "  }\n",
              "\n",
              "  .colab-df-quickchart:hover {\n",
              "    background-color: var(--hover-bg-color);\n",
              "    box-shadow: 0 1px 2px rgba(60, 64, 67, 0.3), 0 1px 3px 1px rgba(60, 64, 67, 0.15);\n",
              "    fill: var(--button-hover-fill-color);\n",
              "  }\n",
              "\n",
              "  .colab-df-quickchart-complete:disabled,\n",
              "  .colab-df-quickchart-complete:disabled:hover {\n",
              "    background-color: var(--disabled-bg-color);\n",
              "    fill: var(--disabled-fill-color);\n",
              "    box-shadow: none;\n",
              "  }\n",
              "\n",
              "  .colab-df-spinner {\n",
              "    border: 2px solid var(--fill-color);\n",
              "    border-color: transparent;\n",
              "    border-bottom-color: var(--fill-color);\n",
              "    animation:\n",
              "      spin 1s steps(1) infinite;\n",
              "  }\n",
              "\n",
              "  @keyframes spin {\n",
              "    0% {\n",
              "      border-color: transparent;\n",
              "      border-bottom-color: var(--fill-color);\n",
              "      border-left-color: var(--fill-color);\n",
              "    }\n",
              "    20% {\n",
              "      border-color: transparent;\n",
              "      border-left-color: var(--fill-color);\n",
              "      border-top-color: var(--fill-color);\n",
              "    }\n",
              "    30% {\n",
              "      border-color: transparent;\n",
              "      border-left-color: var(--fill-color);\n",
              "      border-top-color: var(--fill-color);\n",
              "      border-right-color: var(--fill-color);\n",
              "    }\n",
              "    40% {\n",
              "      border-color: transparent;\n",
              "      border-right-color: var(--fill-color);\n",
              "      border-top-color: var(--fill-color);\n",
              "    }\n",
              "    60% {\n",
              "      border-color: transparent;\n",
              "      border-right-color: var(--fill-color);\n",
              "    }\n",
              "    80% {\n",
              "      border-color: transparent;\n",
              "      border-right-color: var(--fill-color);\n",
              "      border-bottom-color: var(--fill-color);\n",
              "    }\n",
              "    90% {\n",
              "      border-color: transparent;\n",
              "      border-bottom-color: var(--fill-color);\n",
              "    }\n",
              "  }\n",
              "</style>\n",
              "\n",
              "  <script>\n",
              "    async function quickchart(key) {\n",
              "      const quickchartButtonEl =\n",
              "        document.querySelector('#' + key + ' button');\n",
              "      quickchartButtonEl.disabled = true;  // To prevent multiple clicks.\n",
              "      quickchartButtonEl.classList.add('colab-df-spinner');\n",
              "      try {\n",
              "        const charts = await google.colab.kernel.invokeFunction(\n",
              "            'suggestCharts', [key], {});\n",
              "      } catch (error) {\n",
              "        console.error('Error during call to suggestCharts:', error);\n",
              "      }\n",
              "      quickchartButtonEl.classList.remove('colab-df-spinner');\n",
              "      quickchartButtonEl.classList.add('colab-df-quickchart-complete');\n",
              "    }\n",
              "    (() => {\n",
              "      let quickchartButtonEl =\n",
              "        document.querySelector('#df-497cefeb-a3a1-4531-909c-a007ecb9dfb0 button');\n",
              "      quickchartButtonEl.style.display =\n",
              "        google.colab.kernel.accessAllowed ? 'block' : 'none';\n",
              "    })();\n",
              "  </script>\n",
              "</div>\n",
              "\n",
              "    </div>\n",
              "  </div>\n"
            ],
            "application/vnd.google.colaboratory.intrinsic+json": {
              "type": "dataframe",
              "summary": "{\n  \"name\": \"df\",\n  \"rows\": 15,\n  \"fields\": [\n    {\n      \"column\": \"home\",\n      \"properties\": {\n        \"dtype\": \"number\",\n        \"std\": 0,\n        \"min\": 0,\n        \"max\": 1,\n        \"num_unique_values\": 2,\n        \"samples\": [\n          0,\n          1\n        ],\n        \"semantic_type\": \"\",\n        \"description\": \"\"\n      }\n    },\n    {\n      \"column\": \"how_it_works\",\n      \"properties\": {\n        \"dtype\": \"number\",\n        \"std\": 0,\n        \"min\": 0,\n        \"max\": 1,\n        \"num_unique_values\": 2,\n        \"samples\": [\n          0,\n          1\n        ],\n        \"semantic_type\": \"\",\n        \"description\": \"\"\n      }\n    },\n    {\n      \"column\": \"contact\",\n      \"properties\": {\n        \"dtype\": \"number\",\n        \"std\": 0,\n        \"min\": 0,\n        \"max\": 1,\n        \"num_unique_values\": 2,\n        \"samples\": [\n          1,\n          0\n        ],\n        \"semantic_type\": \"\",\n        \"description\": \"\"\n      }\n    },\n    {\n      \"column\": \"bought\",\n      \"properties\": {\n        \"dtype\": \"number\",\n        \"std\": 0,\n        \"min\": 0,\n        \"max\": 1,\n        \"num_unique_values\": 2,\n        \"samples\": [\n          1,\n          0\n        ],\n        \"semantic_type\": \"\",\n        \"description\": \"\"\n      }\n    }\n  ]\n}"
            }
          },
          "metadata": {}
        },
        {
          "output_type": "execute_result",
          "data": {
            "text/plain": [
              "(99, 4)"
            ]
          },
          "metadata": {},
          "execution_count": 72
        }
      ],
      "source": [
        "import pandas as pd\n",
        "\n",
        "url = 'https://raw.githubusercontent.com/Elberth-Git/tracking_learning/main/tracking.csv' #importação do banco de dados via URL\n",
        "df = pd.read_csv(url)\n",
        "display(df.head(15))\n",
        "\n",
        "df.shape"
      ]
    },
    {
      "cell_type": "code",
      "source": [
        "map = {\n",
        "    \"home\": \"principal\",\n",
        "    \"how_it_works\": \"como_funciona\",\n",
        "    \"contact\": \"contato\",\n",
        "    \"bought\": \"comprou\"\n",
        "      }\n",
        "\n",
        "dados = df.rename(columns = map)\n",
        "display(dados.head(15))"
      ],
      "metadata": {
        "colab": {
          "base_uri": "https://localhost:8080/",
          "height": 520
        },
        "id": "7_3Aclq-bu-J",
        "outputId": "1de831d9-aae6-4c77-dc00-d99042d62e61"
      },
      "execution_count": null,
      "outputs": [
        {
          "output_type": "display_data",
          "data": {
            "text/plain": [
              "    principal  como_funciona  contato  comprou\n",
              "0           1              1        0        0\n",
              "1           1              1        0        0\n",
              "2           1              1        0        0\n",
              "3           1              1        0        0\n",
              "4           1              1        0        0\n",
              "5           1              0        1        1\n",
              "6           1              1        0        0\n",
              "7           1              0        1        1\n",
              "8           1              1        0        0\n",
              "9           1              0        1        1\n",
              "10          1              1        0        1\n",
              "11          1              0        1        1\n",
              "12          0              0        1        0\n",
              "13          0              0        1        0\n",
              "14          0              0        1        0"
            ],
            "text/html": [
              "\n",
              "  <div id=\"df-118c8032-1336-4c91-8f14-b3b0cafc0bf2\" class=\"colab-df-container\">\n",
              "    <div>\n",
              "<style scoped>\n",
              "    .dataframe tbody tr th:only-of-type {\n",
              "        vertical-align: middle;\n",
              "    }\n",
              "\n",
              "    .dataframe tbody tr th {\n",
              "        vertical-align: top;\n",
              "    }\n",
              "\n",
              "    .dataframe thead th {\n",
              "        text-align: right;\n",
              "    }\n",
              "</style>\n",
              "<table border=\"1\" class=\"dataframe\">\n",
              "  <thead>\n",
              "    <tr style=\"text-align: right;\">\n",
              "      <th></th>\n",
              "      <th>principal</th>\n",
              "      <th>como_funciona</th>\n",
              "      <th>contato</th>\n",
              "      <th>comprou</th>\n",
              "    </tr>\n",
              "  </thead>\n",
              "  <tbody>\n",
              "    <tr>\n",
              "      <th>0</th>\n",
              "      <td>1</td>\n",
              "      <td>1</td>\n",
              "      <td>0</td>\n",
              "      <td>0</td>\n",
              "    </tr>\n",
              "    <tr>\n",
              "      <th>1</th>\n",
              "      <td>1</td>\n",
              "      <td>1</td>\n",
              "      <td>0</td>\n",
              "      <td>0</td>\n",
              "    </tr>\n",
              "    <tr>\n",
              "      <th>2</th>\n",
              "      <td>1</td>\n",
              "      <td>1</td>\n",
              "      <td>0</td>\n",
              "      <td>0</td>\n",
              "    </tr>\n",
              "    <tr>\n",
              "      <th>3</th>\n",
              "      <td>1</td>\n",
              "      <td>1</td>\n",
              "      <td>0</td>\n",
              "      <td>0</td>\n",
              "    </tr>\n",
              "    <tr>\n",
              "      <th>4</th>\n",
              "      <td>1</td>\n",
              "      <td>1</td>\n",
              "      <td>0</td>\n",
              "      <td>0</td>\n",
              "    </tr>\n",
              "    <tr>\n",
              "      <th>5</th>\n",
              "      <td>1</td>\n",
              "      <td>0</td>\n",
              "      <td>1</td>\n",
              "      <td>1</td>\n",
              "    </tr>\n",
              "    <tr>\n",
              "      <th>6</th>\n",
              "      <td>1</td>\n",
              "      <td>1</td>\n",
              "      <td>0</td>\n",
              "      <td>0</td>\n",
              "    </tr>\n",
              "    <tr>\n",
              "      <th>7</th>\n",
              "      <td>1</td>\n",
              "      <td>0</td>\n",
              "      <td>1</td>\n",
              "      <td>1</td>\n",
              "    </tr>\n",
              "    <tr>\n",
              "      <th>8</th>\n",
              "      <td>1</td>\n",
              "      <td>1</td>\n",
              "      <td>0</td>\n",
              "      <td>0</td>\n",
              "    </tr>\n",
              "    <tr>\n",
              "      <th>9</th>\n",
              "      <td>1</td>\n",
              "      <td>0</td>\n",
              "      <td>1</td>\n",
              "      <td>1</td>\n",
              "    </tr>\n",
              "    <tr>\n",
              "      <th>10</th>\n",
              "      <td>1</td>\n",
              "      <td>1</td>\n",
              "      <td>0</td>\n",
              "      <td>1</td>\n",
              "    </tr>\n",
              "    <tr>\n",
              "      <th>11</th>\n",
              "      <td>1</td>\n",
              "      <td>0</td>\n",
              "      <td>1</td>\n",
              "      <td>1</td>\n",
              "    </tr>\n",
              "    <tr>\n",
              "      <th>12</th>\n",
              "      <td>0</td>\n",
              "      <td>0</td>\n",
              "      <td>1</td>\n",
              "      <td>0</td>\n",
              "    </tr>\n",
              "    <tr>\n",
              "      <th>13</th>\n",
              "      <td>0</td>\n",
              "      <td>0</td>\n",
              "      <td>1</td>\n",
              "      <td>0</td>\n",
              "    </tr>\n",
              "    <tr>\n",
              "      <th>14</th>\n",
              "      <td>0</td>\n",
              "      <td>0</td>\n",
              "      <td>1</td>\n",
              "      <td>0</td>\n",
              "    </tr>\n",
              "  </tbody>\n",
              "</table>\n",
              "</div>\n",
              "    <div class=\"colab-df-buttons\">\n",
              "\n",
              "  <div class=\"colab-df-container\">\n",
              "    <button class=\"colab-df-convert\" onclick=\"convertToInteractive('df-118c8032-1336-4c91-8f14-b3b0cafc0bf2')\"\n",
              "            title=\"Convert this dataframe to an interactive table.\"\n",
              "            style=\"display:none;\">\n",
              "\n",
              "  <svg xmlns=\"http://www.w3.org/2000/svg\" height=\"24px\" viewBox=\"0 -960 960 960\">\n",
              "    <path d=\"M120-120v-720h720v720H120Zm60-500h600v-160H180v160Zm220 220h160v-160H400v160Zm0 220h160v-160H400v160ZM180-400h160v-160H180v160Zm440 0h160v-160H620v160ZM180-180h160v-160H180v160Zm440 0h160v-160H620v160Z\"/>\n",
              "  </svg>\n",
              "    </button>\n",
              "\n",
              "  <style>\n",
              "    .colab-df-container {\n",
              "      display:flex;\n",
              "      gap: 12px;\n",
              "    }\n",
              "\n",
              "    .colab-df-convert {\n",
              "      background-color: #E8F0FE;\n",
              "      border: none;\n",
              "      border-radius: 50%;\n",
              "      cursor: pointer;\n",
              "      display: none;\n",
              "      fill: #1967D2;\n",
              "      height: 32px;\n",
              "      padding: 0 0 0 0;\n",
              "      width: 32px;\n",
              "    }\n",
              "\n",
              "    .colab-df-convert:hover {\n",
              "      background-color: #E2EBFA;\n",
              "      box-shadow: 0px 1px 2px rgba(60, 64, 67, 0.3), 0px 1px 3px 1px rgba(60, 64, 67, 0.15);\n",
              "      fill: #174EA6;\n",
              "    }\n",
              "\n",
              "    .colab-df-buttons div {\n",
              "      margin-bottom: 4px;\n",
              "    }\n",
              "\n",
              "    [theme=dark] .colab-df-convert {\n",
              "      background-color: #3B4455;\n",
              "      fill: #D2E3FC;\n",
              "    }\n",
              "\n",
              "    [theme=dark] .colab-df-convert:hover {\n",
              "      background-color: #434B5C;\n",
              "      box-shadow: 0px 1px 3px 1px rgba(0, 0, 0, 0.15);\n",
              "      filter: drop-shadow(0px 1px 2px rgba(0, 0, 0, 0.3));\n",
              "      fill: #FFFFFF;\n",
              "    }\n",
              "  </style>\n",
              "\n",
              "    <script>\n",
              "      const buttonEl =\n",
              "        document.querySelector('#df-118c8032-1336-4c91-8f14-b3b0cafc0bf2 button.colab-df-convert');\n",
              "      buttonEl.style.display =\n",
              "        google.colab.kernel.accessAllowed ? 'block' : 'none';\n",
              "\n",
              "      async function convertToInteractive(key) {\n",
              "        const element = document.querySelector('#df-118c8032-1336-4c91-8f14-b3b0cafc0bf2');\n",
              "        const dataTable =\n",
              "          await google.colab.kernel.invokeFunction('convertToInteractive',\n",
              "                                                    [key], {});\n",
              "        if (!dataTable) return;\n",
              "\n",
              "        const docLinkHtml = 'Like what you see? Visit the ' +\n",
              "          '<a target=\"_blank\" href=https://colab.research.google.com/notebooks/data_table.ipynb>data table notebook</a>'\n",
              "          + ' to learn more about interactive tables.';\n",
              "        element.innerHTML = '';\n",
              "        dataTable['output_type'] = 'display_data';\n",
              "        await google.colab.output.renderOutput(dataTable, element);\n",
              "        const docLink = document.createElement('div');\n",
              "        docLink.innerHTML = docLinkHtml;\n",
              "        element.appendChild(docLink);\n",
              "      }\n",
              "    </script>\n",
              "  </div>\n",
              "\n",
              "\n",
              "<div id=\"df-6627a194-77b6-4c76-ac4f-bc138100ae31\">\n",
              "  <button class=\"colab-df-quickchart\" onclick=\"quickchart('df-6627a194-77b6-4c76-ac4f-bc138100ae31')\"\n",
              "            title=\"Suggest charts\"\n",
              "            style=\"display:none;\">\n",
              "\n",
              "<svg xmlns=\"http://www.w3.org/2000/svg\" height=\"24px\"viewBox=\"0 0 24 24\"\n",
              "     width=\"24px\">\n",
              "    <g>\n",
              "        <path d=\"M19 3H5c-1.1 0-2 .9-2 2v14c0 1.1.9 2 2 2h14c1.1 0 2-.9 2-2V5c0-1.1-.9-2-2-2zM9 17H7v-7h2v7zm4 0h-2V7h2v10zm4 0h-2v-4h2v4z\"/>\n",
              "    </g>\n",
              "</svg>\n",
              "  </button>\n",
              "\n",
              "<style>\n",
              "  .colab-df-quickchart {\n",
              "      --bg-color: #E8F0FE;\n",
              "      --fill-color: #1967D2;\n",
              "      --hover-bg-color: #E2EBFA;\n",
              "      --hover-fill-color: #174EA6;\n",
              "      --disabled-fill-color: #AAA;\n",
              "      --disabled-bg-color: #DDD;\n",
              "  }\n",
              "\n",
              "  [theme=dark] .colab-df-quickchart {\n",
              "      --bg-color: #3B4455;\n",
              "      --fill-color: #D2E3FC;\n",
              "      --hover-bg-color: #434B5C;\n",
              "      --hover-fill-color: #FFFFFF;\n",
              "      --disabled-bg-color: #3B4455;\n",
              "      --disabled-fill-color: #666;\n",
              "  }\n",
              "\n",
              "  .colab-df-quickchart {\n",
              "    background-color: var(--bg-color);\n",
              "    border: none;\n",
              "    border-radius: 50%;\n",
              "    cursor: pointer;\n",
              "    display: none;\n",
              "    fill: var(--fill-color);\n",
              "    height: 32px;\n",
              "    padding: 0;\n",
              "    width: 32px;\n",
              "  }\n",
              "\n",
              "  .colab-df-quickchart:hover {\n",
              "    background-color: var(--hover-bg-color);\n",
              "    box-shadow: 0 1px 2px rgba(60, 64, 67, 0.3), 0 1px 3px 1px rgba(60, 64, 67, 0.15);\n",
              "    fill: var(--button-hover-fill-color);\n",
              "  }\n",
              "\n",
              "  .colab-df-quickchart-complete:disabled,\n",
              "  .colab-df-quickchart-complete:disabled:hover {\n",
              "    background-color: var(--disabled-bg-color);\n",
              "    fill: var(--disabled-fill-color);\n",
              "    box-shadow: none;\n",
              "  }\n",
              "\n",
              "  .colab-df-spinner {\n",
              "    border: 2px solid var(--fill-color);\n",
              "    border-color: transparent;\n",
              "    border-bottom-color: var(--fill-color);\n",
              "    animation:\n",
              "      spin 1s steps(1) infinite;\n",
              "  }\n",
              "\n",
              "  @keyframes spin {\n",
              "    0% {\n",
              "      border-color: transparent;\n",
              "      border-bottom-color: var(--fill-color);\n",
              "      border-left-color: var(--fill-color);\n",
              "    }\n",
              "    20% {\n",
              "      border-color: transparent;\n",
              "      border-left-color: var(--fill-color);\n",
              "      border-top-color: var(--fill-color);\n",
              "    }\n",
              "    30% {\n",
              "      border-color: transparent;\n",
              "      border-left-color: var(--fill-color);\n",
              "      border-top-color: var(--fill-color);\n",
              "      border-right-color: var(--fill-color);\n",
              "    }\n",
              "    40% {\n",
              "      border-color: transparent;\n",
              "      border-right-color: var(--fill-color);\n",
              "      border-top-color: var(--fill-color);\n",
              "    }\n",
              "    60% {\n",
              "      border-color: transparent;\n",
              "      border-right-color: var(--fill-color);\n",
              "    }\n",
              "    80% {\n",
              "      border-color: transparent;\n",
              "      border-right-color: var(--fill-color);\n",
              "      border-bottom-color: var(--fill-color);\n",
              "    }\n",
              "    90% {\n",
              "      border-color: transparent;\n",
              "      border-bottom-color: var(--fill-color);\n",
              "    }\n",
              "  }\n",
              "</style>\n",
              "\n",
              "  <script>\n",
              "    async function quickchart(key) {\n",
              "      const quickchartButtonEl =\n",
              "        document.querySelector('#' + key + ' button');\n",
              "      quickchartButtonEl.disabled = true;  // To prevent multiple clicks.\n",
              "      quickchartButtonEl.classList.add('colab-df-spinner');\n",
              "      try {\n",
              "        const charts = await google.colab.kernel.invokeFunction(\n",
              "            'suggestCharts', [key], {});\n",
              "      } catch (error) {\n",
              "        console.error('Error during call to suggestCharts:', error);\n",
              "      }\n",
              "      quickchartButtonEl.classList.remove('colab-df-spinner');\n",
              "      quickchartButtonEl.classList.add('colab-df-quickchart-complete');\n",
              "    }\n",
              "    (() => {\n",
              "      let quickchartButtonEl =\n",
              "        document.querySelector('#df-6627a194-77b6-4c76-ac4f-bc138100ae31 button');\n",
              "      quickchartButtonEl.style.display =\n",
              "        google.colab.kernel.accessAllowed ? 'block' : 'none';\n",
              "    })();\n",
              "  </script>\n",
              "</div>\n",
              "\n",
              "    </div>\n",
              "  </div>\n"
            ],
            "application/vnd.google.colaboratory.intrinsic+json": {
              "type": "dataframe",
              "summary": "{\n  \"name\": \"display(dados\",\n  \"rows\": 15,\n  \"fields\": [\n    {\n      \"column\": \"principal\",\n      \"properties\": {\n        \"dtype\": \"number\",\n        \"std\": 0,\n        \"min\": 0,\n        \"max\": 1,\n        \"num_unique_values\": 2,\n        \"samples\": [\n          0,\n          1\n        ],\n        \"semantic_type\": \"\",\n        \"description\": \"\"\n      }\n    },\n    {\n      \"column\": \"como_funciona\",\n      \"properties\": {\n        \"dtype\": \"number\",\n        \"std\": 0,\n        \"min\": 0,\n        \"max\": 1,\n        \"num_unique_values\": 2,\n        \"samples\": [\n          0,\n          1\n        ],\n        \"semantic_type\": \"\",\n        \"description\": \"\"\n      }\n    },\n    {\n      \"column\": \"contato\",\n      \"properties\": {\n        \"dtype\": \"number\",\n        \"std\": 0,\n        \"min\": 0,\n        \"max\": 1,\n        \"num_unique_values\": 2,\n        \"samples\": [\n          1,\n          0\n        ],\n        \"semantic_type\": \"\",\n        \"description\": \"\"\n      }\n    },\n    {\n      \"column\": \"comprou\",\n      \"properties\": {\n        \"dtype\": \"number\",\n        \"std\": 0,\n        \"min\": 0,\n        \"max\": 1,\n        \"num_unique_values\": 2,\n        \"samples\": [\n          1,\n          0\n        ],\n        \"semantic_type\": \"\",\n        \"description\": \"\"\n      }\n    }\n  ]\n}"
            }
          },
          "metadata": {}
        }
      ]
    },
    {
      "cell_type": "markdown",
      "source": [
        " ## <font color = Yellow> CLASSIFICAÇÃO BINÁRIA:"
      ],
      "metadata": {
        "id": "FHg1IlYEab-O"
      }
    },
    {
      "cell_type": "markdown",
      "source": [
        "* Classes (Y) -> Bougth (1/0) -> Clássificação Binária\n",
        "* Classes (X) -> Bougth (1/0) -> Clássificação Binária"
      ],
      "metadata": {
        "id": "ZFRh1LMua3ht"
      }
    },
    {
      "cell_type": "code",
      "source": [
        "# Separando os recursos (X) e a variável alvo (y)\n",
        "X = dados[['principal', 'como_funciona', 'contato' ]]  # Seleciona as colunas 'home', 'how_it_works' e 'contact' como recursos (X)\n",
        "y = dados['comprou']  # Seleciona a coluna 'bought' como a variável alvo (y)\n",
        "\n",
        "# Importando o modelo de Machine Learning (LinearSVC)\n",
        "from sklearn.svm import LinearSVC\n",
        "\n",
        "# Dividindo os dados em conjuntos de treinamento 75% e teste 25%\n",
        "train_x = X[0:74]  # Primeiras 75 linhas para treinamento (recursos)\n",
        "test_x = X[74:99]  # Linhas 75 até 99 para teste (recursos)\n",
        "train_y = y[0:74]  # Primeiras 75 linhas para treinamento (alvo)\n",
        "test_y = y[74:99]  # Linhas 75 até 99 para teste (alvo)\n",
        "\n",
        "print(\"Treinaremos com %d elementos e testaremos com %d elementos\" % (len(train_x), len(test_x)))"
      ],
      "metadata": {
        "id": "epfMZmhgUqhU",
        "colab": {
          "base_uri": "https://localhost:8080/"
        },
        "outputId": "f30f6c54-f0d7-4ec6-927b-1300f12fc067"
      },
      "execution_count": null,
      "outputs": [
        {
          "output_type": "stream",
          "name": "stdout",
          "text": [
            "Treinaremos com 74 elementos e testaremos com 25 elementos\n"
          ]
        }
      ]
    },
    {
      "cell_type": "code",
      "source": [
        "# Criando o modelo LinearSVC\n",
        "model = LinearSVC()  # Cria uma instância do modelo LinearSVC\n",
        "\n",
        "# Treinando o modelo com os dados de treinamento\n",
        "model.fit(train_x, train_y)  # Treina o modelo usando os dados de treinamento (train_x, train_y)\n",
        "\n",
        "# Fazendo previsões para o conjunto de teste\n",
        "result = model.predict(test_x)  # Utiliza o modelo treinado para fazer previsões para o conjunto de teste (test_x)\n",
        "\n",
        "previsoes = model.predict(train_x)\n",
        "print(previsoes)"
      ],
      "metadata": {
        "colab": {
          "base_uri": "https://localhost:8080/"
        },
        "id": "ZDvWbum-dHNV",
        "outputId": "058ce89d-47a2-402c-a7f6-2cae5ff7707f"
      },
      "execution_count": null,
      "outputs": [
        {
          "output_type": "stream",
          "name": "stdout",
          "text": [
            "[0 0 0 0 0 1 0 1 0 1 0 1 0 0 0 0 0 0 0 0 0 0 0 0 1 1 1 1 0 0 0 1 0 1 1 1 1\n",
            " 0 0 1 0 0 0 1 0 0 1 1 0 0 0 0 1 0 1 0 1 0 1 0 1 0 0 0 1 0 0 1 1 0 0 0 0 0]\n"
          ]
        }
      ]
    },
    {
      "cell_type": "code",
      "source": [
        "# Criando o modelo LinearSVC\n",
        "model = LinearSVC()  # Cria uma instância do modelo LinearSVC\n",
        "\n",
        "# Treinando o modelo com os dados de treinamento\n",
        "model.fit(train_x, train_y)  # Treina o modelo usando os dados de treinamento (train_x, train_y)\n",
        "\n",
        "#Testando o modelo\n",
        "\n",
        "#Opção 1\n",
        "previsoes = model.predict(train_x) #teste\n",
        "acuracia = acuracy_score(test_y, previsoes) * 100 #Compara vetores\n",
        "\n",
        "#Opção 2\n",
        "acuracia = accuracy_score(test_y, previsoes) * 100 #Roda teste e depois comparando\n",
        "\n",
        "\n",
        "acuracia_model_score = model.score(test_x, test_y) * 100\n",
        "\n",
        "print(f'Acurácia do modelo: {acuracia_model_score:.2f}')\n",
        "print(f'Acurácia: %.2f' % (acuracia * 100), '%')  # Imprime a acurácia formatada como uma porcentagem com duas casas decimais\n",
        "\n",
        "# Fazendo previsões para o conjunto de teste\n",
        "result = model.predict(test_x)  # Utiliza o modelo treinado para fazer previsões para o conjunto de teste (test_x)\n",
        "\n",
        "print(previsoes)"
      ],
      "metadata": {
        "id": "0-9AUEhAfZZd"
      },
      "execution_count": null,
      "outputs": []
    },
    {
      "cell_type": "code",
      "source": [
        "print(result)"
      ],
      "metadata": {
        "colab": {
          "base_uri": "https://localhost:8080/"
        },
        "id": "TteNwl50e0hV",
        "outputId": "22da0a64-cb69-4d6d-af54-305b5805d385"
      },
      "execution_count": null,
      "outputs": [
        {
          "output_type": "stream",
          "name": "stdout",
          "text": [
            "[0 0 0 0 0 0 0 0 0 1 1 0 0 0 0 1 1 0 0 0 0 1 0 0 0]\n"
          ]
        }
      ]
    },
    {
      "cell_type": "code",
      "source": [
        "# Acurácia\n",
        "total = len(test_y)  # Calcula o número total de exemplos no conjunto de teste\n",
        "correct = (result == test_y).sum()  # Conta quantos resultados previstos (result) são iguais aos valores reais (test_y)\n",
        "accuracy = correct/total  # Calcula a proporção de acertos em relação ao total de exemplos\n",
        "print(f'Acurácia: %.2f' % (accuracy * 100), '%')  # Imprime a acurácia formatada como uma porcentagem com duas casas decimais"
      ],
      "metadata": {
        "colab": {
          "base_uri": "https://localhost:8080/"
        },
        "id": "g1JrqaMMWEi4",
        "outputId": "4dfcf348-b9b8-4b46-ba2a-fccb62a9ef89"
      },
      "execution_count": null,
      "outputs": [
        {
          "output_type": "stream",
          "name": "stdout",
          "text": [
            "Acurácia: 92.00 %\n"
          ]
        }
      ]
    },
    {
      "cell_type": "markdown",
      "source": [
        "## <font color = Yellow> SEPARAÇÃO DE TREINO E TESTE\n"
      ],
      "metadata": {
        "id": "X1cYhiBIhs9G"
      }
    },
    {
      "cell_type": "code",
      "source": [
        "#SEPARAR TREINO E TESTE\n",
        "train_x, test_x, train_y, test_y = train_test_split(X, y, test_size=0.25,random_state=42)\n",
        "print(f\"\\n Treinaremos com %d elementos e testaremos com %d elementos\" % (len(train_x), len(test_x)))\n"
      ],
      "metadata": {
        "id": "orc6PrvMmrEn"
      },
      "execution_count": null,
      "outputs": []
    },
    {
      "cell_type": "markdown",
      "source": [
        "## <font color = Yellow> MEU MODELO CLASSIFICADOR"
      ],
      "metadata": {
        "id": "rkRYQRCFm2hY"
      }
    },
    {
      "cell_type": "code",
      "source": [
        "# Separando os recursos (X) e a variável alvo (y)\n",
        "X = dados[['principal', 'como_funciona', 'contato' ]]  # Seleciona as colunas 'home', 'how_it_works' e 'contact' como recursos (X)\n",
        "y = dados['comprou']  # Seleciona a coluna 'bought' como a variável alvo (y)\n",
        "\n",
        "# Importando o modelo de Machine Learning (LinearSVC)\n",
        "from sklearn.svm import LinearSVC # Importando o modelo de Machine Learning (LinearSVC)\n",
        "from sklearn.model_selection import train_test_split # Importando a biblioteca para separação de dados\n",
        "\n",
        "# Criando o modelo LinearSVC\n",
        "model = LinearSVC()  # Cria uma instância do modelo LinearSVC\n",
        "\n",
        "# Treinando o modelo com os dados de treinamento\n",
        "model.fit(train_x, train_y)  # Treina o modelo usando os dados de treinamento (train_x, train_y)\n",
        "\n",
        "# Fazendo previsões para o conjunto de teste\n",
        "result = model.predict(test_x)  # Utiliza o modelo treinado para fazer previsões para o conjunto de teste (test_x)\n",
        "\n",
        "previsoes = model.predict(train_x)\n",
        "\n",
        "acuracia_model_score = model.score(test_x, test_y) * 100\n",
        "\n",
        "print(f'Acurácia do modelo: {acuracia_model_score:.2f} %' )"
      ],
      "metadata": {
        "colab": {
          "base_uri": "https://localhost:8080/"
        },
        "id": "31TjMecAh9GV",
        "outputId": "86752a84-7380-437e-94d3-4c22791682e9"
      },
      "execution_count": null,
      "outputs": [
        {
          "output_type": "stream",
          "name": "stdout",
          "text": [
            "Acurácia do modelo: 96.00 %\n"
          ]
        }
      ]
    },
    {
      "cell_type": "markdown",
      "source": [
        "## <font color = Yellow > COMPARAÇÃO ACURÁCIA DUMMY (BASELINE)"
      ],
      "metadata": {
        "id": "pn3itmUblY2p"
      }
    },
    {
      "cell_type": "code",
      "source": [
        "from sklearn.dummy import DummyClassifier\n",
        "\n",
        "dummy_stratifield = DummyClassifier() #Cria modelo\n",
        "dummy_stratifield.fit(train_x, train_y) #Treina modelo\n",
        "dummy_stratifield.score(test_x, test_y) #Avalia modelo\n",
        "\n",
        "acuracia_dummy = dummy_stratifield.score(test_x, test_y) * 100\n",
        "print(f'A Acurácia do modelo dummy stratifield foi de {acuracia_dummy:.2f} %')"
      ],
      "metadata": {
        "colab": {
          "base_uri": "https://localhost:8080/"
        },
        "id": "WzgG6pxplXPP",
        "outputId": "a65394b5-0912-43c2-b3c7-859d85022c53"
      },
      "execution_count": null,
      "outputs": [
        {
          "output_type": "stream",
          "name": "stdout",
          "text": [
            "A Acurácia do modelo dummy stratifield foi de 64.00 %\n"
          ]
        }
      ]
    },
    {
      "cell_type": "code",
      "source": [
        "#SEPARAR TREINO E TESTE\n",
        "train_x, test_x, train_y, test_y = train_test_split(X, y, test_size=0.25,random_state=42, stratify=y)\n",
        "print(f\"\\n Treinaremos com %d elementos e testaremos com %d elementos\" % (len(train_x), len(test_x)))"
      ],
      "metadata": {
        "id": "3MyddaILv9-o",
        "outputId": "ae58ab46-bc2f-4e30-d61b-2f0a6fe6853d",
        "colab": {
          "base_uri": "https://localhost:8080/"
        }
      },
      "execution_count": null,
      "outputs": [
        {
          "output_type": "stream",
          "name": "stdout",
          "text": [
            "\n",
            " Treinaremos com 74 elementos e testaremos com 25 elementos\n"
          ]
        }
      ]
    },
    {
      "cell_type": "markdown",
      "source": [
        "## <font color = Yellow > VERIFICAÇÃO DA PROPORÇÃO DE TREINO E TESTE"
      ],
      "metadata": {
        "id": "wINxnS_XxAC5"
      }
    },
    {
      "cell_type": "markdown",
      "source": [
        "### <font color = Orange> MEU MODELO CLASSIFICADOR"
      ],
      "metadata": {
        "id": "kJALjDKZyPei"
      }
    },
    {
      "cell_type": "code",
      "source": [
        "train_y.value_counts()"
      ],
      "metadata": {
        "id": "jrNIapkw5_hk",
        "outputId": "233f6f0f-7bd8-4617-b525-5315306a8e8e",
        "colab": {
          "base_uri": "https://localhost:8080/"
        }
      },
      "execution_count": null,
      "outputs": [
        {
          "output_type": "execute_result",
          "data": {
            "text/plain": [
              "comprou\n",
              "0    49\n",
              "1    25\n",
              "Name: count, dtype: int64"
            ]
          },
          "metadata": {},
          "execution_count": 73
        }
      ]
    },
    {
      "cell_type": "code",
      "source": [
        "train_y.value_counts()"
      ],
      "metadata": {
        "id": "-reXOytn6FKL",
        "outputId": "17f5bb94-6d21-4ac2-d855-011954065f1a",
        "colab": {
          "base_uri": "https://localhost:8080/"
        }
      },
      "execution_count": null,
      "outputs": [
        {
          "output_type": "execute_result",
          "data": {
            "text/plain": [
              "comprou\n",
              "0    49\n",
              "1    25\n",
              "Name: count, dtype: int64"
            ]
          },
          "metadata": {},
          "execution_count": 74
        }
      ]
    },
    {
      "cell_type": "markdown",
      "source": [
        "### <font color = Orange> SEPARAÇÃO DE TREINO E TESTE"
      ],
      "metadata": {
        "id": "fxDZZj14mGYB"
      }
    },
    {
      "cell_type": "code",
      "source": [
        "#SEPARAR TREINO E TESTE\n",
        "train_x, test_x, train_y, test_y = train_test_split(X, y, test_size=0.25,random_state=42, stratify=y)\n",
        "print(f\"Treinaremos com %d elementos e testaremos com %d elementos\" % (len(train_x), len(test_x)))"
      ],
      "metadata": {
        "id": "GcZ2YtFX9Zgc",
        "outputId": "3120423b-25a5-4b17-f938-1e304dbdc64a",
        "colab": {
          "base_uri": "https://localhost:8080/"
        }
      },
      "execution_count": null,
      "outputs": [
        {
          "output_type": "stream",
          "name": "stdout",
          "text": [
            "Treinaremos com 74 elementos e testaremos com 25 elementos\n"
          ]
        }
      ]
    },
    {
      "cell_type": "code",
      "source": [
        "# Criando o modelo LinearSVC\n",
        "model = LinearSVC()  # Cria uma instância do modelo LinearSVC\n",
        "\n",
        "# Treinando o modelo com os dados de treinamento\n",
        "model.fit(train_x, train_y)  # Treina o modelo usando os dados de treinamento (train_x, train_y)\n",
        "\n",
        "# Fazendo previsões para o conjunto de teste\n",
        "result = model.predict(test_x)  # Utiliza o modelo treinado para fazer previsões para o conjunto de teste (test_x)\n",
        "\n",
        "previsoes = model.predict(train_x)\n",
        "\n",
        "acuracia_model_score = model.score(test_x, test_y) * 100\n",
        "\n",
        "print(f'Acurácia do modelo: {acuracia_model_score:.2f} %' )"
      ],
      "metadata": {
        "id": "5A4fLWGlyXvK",
        "outputId": "16ba05ec-2213-4092-9790-17a0a45dcf69",
        "colab": {
          "base_uri": "https://localhost:8080/"
        }
      },
      "execution_count": null,
      "outputs": [
        {
          "output_type": "stream",
          "name": "stdout",
          "text": [
            "Acurácia do modelo: 96.00 %\n"
          ]
        }
      ]
    },
    {
      "cell_type": "markdown",
      "source": [
        "### <font color = Orange> DUMMY BASELINE"
      ],
      "metadata": {
        "id": "JB2aJaLTxPFp"
      }
    },
    {
      "cell_type": "code",
      "source": [
        "from sklearn.dummy import DummyClassifier\n",
        "\n",
        "dummy_stratifield = DummyClassifier() #Cria modelo\n",
        "dummy_stratifield.fit(train_x, train_y) #Treina modelo\n",
        "dummy_stratifield.score(test_x, test_y) #Avalia modelo\n",
        "\n",
        "acuracia_dummy = dummy_stratifield.score(test_x, test_y) * 100\n",
        "print(f'A Acurácia do modelo dummy stratifield foi de {acuracia_dummy:.2f} %')"
      ],
      "metadata": {
        "id": "aRlSDYNTxulZ",
        "outputId": "a566db9e-51b2-44d8-9c04-1fce60384683",
        "colab": {
          "base_uri": "https://localhost:8080/"
        }
      },
      "execution_count": null,
      "outputs": [
        {
          "output_type": "stream",
          "name": "stdout",
          "text": [
            "A Acurácia do modelo dummy stratifield foi de 68.00 %\n"
          ]
        }
      ]
    },
    {
      "cell_type": "code",
      "source": [
        "print(f'Acurácia do modelo: {acuracia_model_score:.2f} %' )  # Imprime a acurácia formatada como uma porcentagem com duas casas decimais)\n",
        "print(f'A Acurácia do modelo dummy stratifield foi de {acuracia_dummy:.2f} %')"
      ],
      "metadata": {
        "id": "F60MX4lEygoZ",
        "outputId": "7941f38e-1771-4461-b29d-367c352e5695",
        "colab": {
          "base_uri": "https://localhost:8080/"
        }
      },
      "execution_count": null,
      "outputs": [
        {
          "output_type": "stream",
          "name": "stdout",
          "text": [
            "Acurácia do modelo 96.00 %\n",
            "A Acurácia do modelo dummy stratifield foi de 68.00 %\n"
          ]
        }
      ]
    },
    {
      "cell_type": "markdown",
      "source": [
        "### <font color = Orange> USANDO O MODELO"
      ],
      "metadata": {
        "id": "odkaw6a8x7mS"
      }
    },
    {
      "cell_type": "code",
      "source": [
        "model.predict([[1, 1, 1]])"
      ],
      "metadata": {
        "id": "pHh1wuWdy9ca",
        "outputId": "c7db3397-b782-41cb-ba2a-28248e34702f",
        "colab": {
          "base_uri": "https://localhost:8080/"
        }
      },
      "execution_count": null,
      "outputs": [
        {
          "output_type": "stream",
          "name": "stderr",
          "text": [
            "/usr/local/lib/python3.10/dist-packages/sklearn/base.py:439: UserWarning: X does not have valid feature names, but LinearSVC was fitted with feature names\n",
            "  warnings.warn(\n"
          ]
        },
        {
          "output_type": "execute_result",
          "data": {
            "text/plain": [
              "array([1])"
            ]
          },
          "metadata": {},
          "execution_count": 70
        }
      ]
    },
    {
      "cell_type": "code",
      "source": [
        "model.predict([[1, 0, 1]])"
      ],
      "metadata": {
        "id": "WTprZ0JszvEC",
        "outputId": "87a41dfc-ece3-44f3-a27a-dc483055fd5c",
        "colab": {
          "base_uri": "https://localhost:8080/"
        }
      },
      "execution_count": null,
      "outputs": [
        {
          "output_type": "stream",
          "name": "stderr",
          "text": [
            "/usr/local/lib/python3.10/dist-packages/sklearn/base.py:439: UserWarning: X does not have valid feature names, but LinearSVC was fitted with feature names\n",
            "  warnings.warn(\n"
          ]
        },
        {
          "output_type": "execute_result",
          "data": {
            "text/plain": [
              "array([1])"
            ]
          },
          "metadata": {},
          "execution_count": 71
        }
      ]
    },
    {
      "cell_type": "markdown",
      "source": [
        "## <font color = Yellow> Exemplo :"
      ],
      "metadata": {
        "id": "FfJqOX6dfDEq"
      }
    },
    {
      "cell_type": "code",
      "source": [
        "import pandas as pd\n",
        "from sklearn.svm import LinearSVC\n",
        "from sklearn.model_selection import train_test_split\n",
        "\n",
        "# Simulação de dados (substitua por seus dados reais)\n",
        "\n",
        "# Separando os recursos (X) e a variável alvo (y)\n",
        "X2 = df[['home', 'how_it_works', 'contact']]\n",
        "y2 = df['bought']\n",
        "\n",
        "# Dividindo os dados em conjuntos de treinamento e teste\n",
        "X2_train, X2_test, y2_train, y2_test = train_test_split(X2, y2, test_size=0.25, random_state=42)\n",
        "\n",
        "# Criando o modelo LinearSVC\n",
        "model2 = LinearSVC()\n",
        "\n",
        "# Treinando o modelo\n",
        "model2.fit(X2_train, y2_train)\n",
        "\n",
        "# Fazendo previsões para o conjunto de teste\n",
        "predictions = model2.predict(X2_test)\n",
        "\n",
        "# Avaliando o modelo\n",
        "from sklearn.metrics import accuracy_score\n",
        "\n",
        "accuracy_2 = accuracy_score(y2_test, predictions)\n",
        "print(f'Acurácia do modelo: {accuracy_2:.2f}')\n",
        "\n",
        "# Exemplo de como usar o modelo para recomendar produtos\n",
        "novo_cliente = pd.DataFrame({'home': [1], 'how_it_works': [0], 'contact': [1]})\n",
        "previsao = model2.predict(novo_cliente)\n",
        "\n",
        "if previsao[0] == 1:\n",
        "    print('Cliente com alta probabilidade de compra. Recomendar produtos relevantes.')\n",
        "else:\n",
        "    print('Cliente com baixa probabilidade de compra. Oferecer promoções ou produtos mais genéricos.')"
      ],
      "metadata": {
        "colab": {
          "base_uri": "https://localhost:8080/"
        },
        "id": "TGLxFV1zceEe",
        "outputId": "36da83b1-edfd-469a-8e02-aba2fa783809"
      },
      "execution_count": null,
      "outputs": [
        {
          "output_type": "stream",
          "name": "stdout",
          "text": [
            "Acurácia do modelo: 0.96\n",
            "Cliente com alta probabilidade de compra. Recomendar produtos relevantes.\n"
          ]
        }
      ]
    },
    {
      "cell_type": "code",
      "source": [
        "troca = {\n",
        "    0:1,\n",
        "    1:0\n",
        "}\n",
        "\n",
        "dados['finalizado'] = dados.não_finalizado.map(troca)\n",
        "dados.head()"
      ],
      "metadata": {
        "id": "YmZS2Cur0h0E"
      },
      "execution_count": null,
      "outputs": []
    }
  ]
}